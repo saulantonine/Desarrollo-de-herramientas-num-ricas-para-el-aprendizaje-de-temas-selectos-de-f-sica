{
  "cells": [
    {
      "cell_type": "markdown",
      "metadata": {
        "id": "ktxz2VA2RKLB"
      },
      "source": [
        "# 1. Planteamiento del Problema\n",
        "\n",
        "Considera un sistema de $ N = 3 $ partículas con masas iguales a $ m $, el cual se encuentra aislado del exterior. Las partículas interactúan entre sí sólo gravitacionalmente.\n",
        "\n",
        "## a) Lagrangiana del sistema\n",
        "\n",
        "Usando las coordenadas cartesianas de las partículas $ x_{ai} $ como coordenadas generalizadas, determina la lagrangiana del sistema respecto a un sistema de referencia inercial arbitrario.\n",
        "\n",
        "## b) Conservación del momento lineal\n",
        "\n",
        "Para este sistema, el momento lineal total se conserva. Explica por qué y demuestra que éste es igual al momento lineal del centro de masas.\n",
        "\n",
        "## c) Sistema de referencia en el centro de masas\n",
        "\n",
        "Por lo anterior, un sistema de referencia anclado al centro de masas es inercial. Por lo tanto, respecto a dicho sistema se satisface:\n",
        "\n",
        "$\\vec{X}_{CM} = \\vec{0}$\n",
        "\n",
        "Esta relación permite escribir a $ \\vec{x}_N $ en términos de los vectores de posición de las otras partículas, con lo que puede reducirse el número de variables. Determina dicha relación y escribe la lagrangiana en términos de las componentes cartesianas de las primeras $ N - 1 $ partículas, las cuales ahora serán las nuevas variables.\n",
        "\n",
        "## d) Ecuaciones de Euler-Lagrange\n",
        "\n",
        "Determina las ecuaciones de Euler-Lagrange del sistema."
      ]
    },
    {
      "cell_type": "markdown",
      "metadata": {
        "id": "Qq0NjMBJSGqg"
      },
      "source": [
        "\n",
        "Para hallar la Lagrangiana del sistema tomamos las coordenadas cartesianas y calculamos la posición de las partículas respecto al origen.\n",
        "\n",
        "Se tiene que:\n",
        "\n",
        "$\\vec{x}_{1}= x_{11}\\hat{\\imath} + x_{12}\\hat{\\jmath} + x_{13}\\hat{k}$\n",
        "\n",
        "$\\vec{x}_{2}= x_{21}\\hat{\\imath} + x_{22}\\hat{\\jmath} + x_{23}\\hat{k}$\n",
        "\n",
        "$\\vec{x}_{1}= x_{31}\\hat{\\imath} + x_{32}\\hat{\\jmath} + x_{33}\\hat{k}$\n",
        "\n",
        "La velocidad de las partículas y su magnitud están dadas por:\n",
        "\n",
        "$\\vec{v}_{1}= \\dot{\\vec{x}_{11}}\\hat{\\imath} + \\dot{\\vec{x}_{12}}\\hat{\\jmath} + \\dot{\\vec{x}_{13}}\\hat{k}$\n",
        "\n",
        "$\\vec{v}_{2}= \\dot{\\vec{x}_{21}}\\hat{\\imath} + \\dot{\\vec{x}_{22}}\\hat{\\jmath} + \\dot{\\vec{x}_{23}}\\hat{k}$\n",
        "\n",
        "$\\vec{v}_{3}= \\dot{\\vec{x}_{31}}\\hat{\\imath} + \\dot{\\vec{x}_{32}}\\hat{\\jmath} + \\dot{\\vec{x}_{33}}\\hat{k}$\n",
        "\n",
        "\n",
        "$\\| \\vec{v}_{1}\\|^2 = \\sum_{i=1}^{3}\\dot{x}^{2}_{1i}$\n",
        "\n",
        "$\\| \\vec{v}_{2}\\|^2 = \\sum_{i=1}^{3}\\dot{x}^{2}_{2i}$\n",
        "\n",
        "$\\| \\vec{v}_{3}\\|^2 = \\sum_{i=1}^{3}\\dot{x}^{2}_{3i}$\n",
        "\n",
        "La energía cinética es la siguiente:\n",
        "\n",
        "$T=\\frac{1}{2}m \\cdot \\sum_{i=1}^{3}\\dot{x}^{2}_{1i}+\\dot{x}^{2}_{2i}+\\dot{x}^{2}_{3i}$\n",
        "\n",
        "La energía potencial gravitacional entre dos partículas i y j separadas por una distancia $r_{ij}=\\|\\vec{x}_{i}-\\vec{x}_{j}\\|$ es:\n",
        "\n",
        "$U_{ij}= -\\frac{Gm^2}{r_{ij}}$\n",
        "\n",
        "Por lo que la energía potencial del sistema es:\n",
        "\n",
        "$U=\\sum_{i=1, i\\neq j}^{3} U_{ij}= -Gm^2(\\frac{1}{r_{12}}+\\frac{1}{r_{13}}+\\frac{1}{r_{23}})$\n",
        "\n",
        "La Lagrangiana del sistema está dada por\n",
        "\n",
        "$L=T-U$\n",
        "\n",
        "entonces;\n",
        "\n",
        "$L=\\frac{1}{2}m \\cdot (\\sum_{i=1}^{3}\\dot{x}^{2}_{1i}+\\dot{x}^{2}_{2i}+\\dot{x}^{2}_{3i})+ Gm^2(\\frac{1}{r_{12}}+\\frac{1}{r_{13}}+\\frac{1}{r_{23}})$"
      ]
    },
    {
      "cell_type": "markdown",
      "metadata": {
        "id": "sz5pd7GTnN55"
      },
      "source": [
        "\n",
        "En un sistema aislado no hay fuerzas externas actuando sobre las partículas. Las únicas fuerzas presentes son las internas, las cuales son iguales y opuestas. Esto es:\n",
        "\n",
        "$F_{ji}= -F_{ij}$\n",
        "\n",
        "Por lo tanto, la fuerza neta sobre el sistema es cero, lo que implica que el momento lineal se conserva.\n",
        "\n",
        "Ahora, el momento lineal total del sistema en un sistema de referencia inercial arbitrario es:\n",
        "$\\vec{P}_{total inercial}=\\sum_{i=1}^{3}m\\vec{v}_{i}$\n",
        "\n",
        "Mientras que el momento lineal del centro de masas (tomando M=3m) es el siguiente\n",
        "\n",
        "$\\vec{r}_{cm}=\\frac{1}{M}\\sum_{i=1}^{3}m\\vec{x}_{i}=\\frac{1}{3}\\sum_{i=1}^{3}\\vec{x}_{i}$\n",
        "\n",
        "Entonces\n",
        "$\\vec{P}_{cm}=m\\vec{r}_{cm}=\\frac{1}{3}\\sum_{i=1}^{3}\\vec{v}_{i}$\n",
        "\n",
        "Por lo tanto\n",
        "$\\vec{P}_{total inercial}= \\vec{P}_{cm}$"
      ]
    },
    {
      "cell_type": "markdown",
      "metadata": {
        "id": "iiF1aNwi6M9E"
      },
      "source": [
        "\n",
        "Tomamos $\\vec{x}_{cm}=\\vec{0}$ por lo que $\\vec{r}_{cm}= 0$ y recordemos que\n",
        "\n",
        "$\\vec{r}_{cm}= \\frac{1}{3}\\sum_{i=1}^{3}\\vec{x}_{i}$\n",
        "\n",
        "entonces\n",
        "\n",
        "$\\frac{1}{3}\\sum_{i=1}^{3}\\vec{x}_{i}=0$ ... (1)\n",
        "\n",
        "Expresemos $\\vec{x}_3$ en términos de la posición de las otras dos partículas. De la ecuación 1, tenemos:\n",
        "\n",
        "$\\vec{x}_1+\\vec{x}_2+\\vec{x}_3=0$\n",
        "\n",
        "así\n",
        "\n",
        "$\\vec{x}_3= -(\\vec{x}_1+\\vec{x}_2)$\n",
        "\n",
        "Ahora, se expresan la Lagrangiana en términos de $\\vec{x}_1$ y $\\vec{x}_2$\n",
        "\n",
        "$\\dot{\\vec{x}_3}= -(\\dot{\\vec{x}_1}+\\dot{\\vec{x}_2})$\n",
        "\n",
        "$\\| \\dot{\\vec{x}_{3}}\\|^2 = \\sum_{i=1}^{3}(\\dot{x}_{1i}+\\dot{x}_{2i})^{2}= \\sum_{i=1}^{3}\\dot{x}^{2}_{1i}+2\\dot{x}_{1i}\\dot{x}_{2i}+\\dot{x}^{2}_{2i}$\n",
        "\n",
        "La energía cinética total, a partir de la ecuación anterior nos queda como sigue\n",
        "\n",
        "$T=\\frac{1}{2}m (\\dot{\\vec{x}^{2}_1}+\\dot{\\vec{x}^{2}_2}+\\dot{\\vec{x}_1}\\cdot\\dot{\\vec{x}_2})=\\frac{1}{2}m(\\sum_{i=1}^{3}(2\\dot{x}_{1i}^{2}+2\\dot{x}_{2i}^{2}+2\\dot{x}_{1i}\\dot{x}_{2i}))$\n",
        "\n",
        "Se calcula la energía potencial gravitacional\n",
        "\n",
        "$U= -Gm^{2}(\\frac{1}{r_{12}}+\\frac{1}{r_{13}}+\\frac{1}{r_{23}})$\n",
        "\n",
        "reescribiendo las normas\n",
        "\n",
        "$r_{12}=\\|\\vec{x}_{1}-\\vec{x}_{2}\\|=(\\sum_{i=1}^{3}(x_{1i}-x_{2i})^{2})^{\\frac{1}{2}}$\n",
        "\n",
        "$r_{13}=\\|\\vec{x}_{1}-\\vec{x}_{3}\\|= \\|2\\vec{x}_{1}+\\vec{x}_{2}\\|=(\\sum_{i=1}^{3}(2x_{1i}+x_{2i})^{2})^{\\frac{1}{2}}$\n",
        "\n",
        "$r_{23}=\\|\\vec{x}_{1}-\\vec{x}_{2}\\|= \\|\\vec{x}_{1}+2\\vec{x}_{2}\\|=(\\sum_{i=1}^{3}(x_{1i}+2x_{2i})^{2})^{\\frac{1}{2}}$\n",
        "\n",
        "Así\n",
        "\n",
        "$U= -Gm^{2}(\\frac{1}{\\|\\vec{x}_{1}-\\vec{x}_{2}\\|}+\\frac{1}{\\|2\\vec{x}_{1}+\\vec{x}_{2}\\|}+\\frac{1}{\\|\\vec{x}_{1}+2\\vec{x}_{2}\\|})$\n",
        "\n",
        "Entonces, la Lagrangiana está dada por\n",
        "\n",
        "$L=\\frac{1}{2}m (\\dot{\\vec{x}^{2}_1}+\\dot{\\vec{x}^{2}_2}+\\dot{\\vec{x}_1}\\cdot\\dot{\\vec{x}_2}) + Gm^{2}(\\frac{1}{\\|\\vec{x}_{1}-\\vec{x}_{2}\\|}+\\frac{1}{\\|2\\vec{x}_{1}+\\vec{x}_{2}\\|}+\\frac{1}{\\|\\vec{x}_{1}+2\\vec{x}_{2}\\|})=\\frac{1}{2}m(\\sum_{i=1}^{3}(2\\dot{x}_{1i}^{2}+2\\dot{x}_{2i}^{2}+2\\dot{x}_{1i}\\dot{x}_{2i}))+Gm^2((\\sum_{i=1}^{3}(x_{1i}-x_{2i})^{2})^{\\frac{1}{2}}+(\\sum_{i=1}^{3}(2x_{1i}+x_{2i})^{2})^{\\frac{1}{2}}+(\\sum_{i=1}^{3}(x_{1i}+2x_{2i})^{2})^{\\frac{1}{2}})$\n"
      ]
    },
    {
      "cell_type": "markdown",
      "metadata": {
        "id": "ClekhfYhKad3"
      },
      "source": [
        "\n",
        "Se calculan las ecuaciones de Euler-Lagrange\n",
        "\n",
        "$\\frac{d}{dt}(\\frac{\\partial L}{\\partial{\\dot x_{ai}}})-\\frac{\\partial L}{\\partial{x_{ai}}}= 0 $; con a=1, 2 i =1, 2\n",
        "\n",
        "Para $x_{1i}$:\n",
        "\n",
        "$\\frac{d}{dt}(\\frac{\\partial L}{\\partial{\\dot x_{1i}}})=\\frac{d}{dt}(2m\\dot{x}_{1i}+ m\\dot{x}_{2i})= 2m\\ddot{x}_{1i}+ m\\ddot{x}_{2i}$\n",
        "\n",
        "$\\frac{\\partial L}{\\partial{x_{1i}}}= Gm^2 \\left(\\frac{x_{1i}-x_{2i}}{\\sqrt{\\sum_{i=1}^{3}(x_{1i}-x_{2i})^{2}}} + \\frac{2(2x_{1i}+x_{2i})}{\\sqrt{\\sum_{i=1}^{3}(2x_{1i}+x_{2i})^{2}}} + \\frac{x_{1i}+2x_{2i}}{\\sqrt{\\sum_{i=1}^{3}(x_{1i}+2x_{2i})^{2}}} \\right)$\n",
        "\n",
        "\n",
        "Para $x_{2i}$:\n",
        "\n",
        "$\\frac{d}{dt}(\\frac{\\partial L}{\\partial{\\dot x_{2i}}})=\\frac{d}{dt}(2m\\dot{x}_{2i}+ m\\dot{x}_{1i})= 2m\\ddot{x}_{2i}+ m\\ddot{x}_{1i}$\n",
        "\n",
        "$\\frac{\\partial L}{\\partial{x_2}}= Gm^2 \\left(\\frac{x_{2i}-x_{1i}}{\\sqrt{\\sum_{i=1}^{3}(x_{1i}-x_{2i})^{2}}} + \\frac{(2x_{1i}+x_{2i})}{\\sqrt{\\sum_{i=1}^{3}(2x_{1i}+x_{2i})^{2}}} + \\frac{2(x_{2i}+x_{1i})}{\\sqrt{\\sum_{i=1}^{3}(x_{1i}+2x_{2i})^{2}}} \\right)$\n",
        "\n",
        "Finalmente, las ecuaciones de Euler-Lagrange toman la siguiente forma:\n",
        "\n",
        "\n",
        "\n",
        "1.   $2m\\ddot{x}_{1i}+ m\\ddot{x}_{2i} = Gm^2 \\left(\\frac{x_{1i}-x_{2i}}{\\sqrt{\\sum_{i=1}^{3}(x_{1i}-x_{2i})^{2}}} + \\frac{2(2x_{1i}+x_{2i})}{\\sqrt{\\sum_{i=1}^{3}(2x_{1i}+x_{2i})^{2}}} + \\frac{x_{1i}+2x_{2i}}{\\sqrt{\\sum_{i=1}^{3}(x_{1i}+2x_{2i})^{2}}} \\right)$\n",
        "\n",
        "2.   $2m\\ddot{x}_{2i}+ m\\ddot{x}_{1i}= Gm^2 \\left(\\frac{x_{2i}-x_{1i}}{\\sqrt{\\sum_{i=1}^{3}(x_{1i}-x_{2i})^{2}}} + \\frac{(2x_{1i}+x_{2i})}{\\sqrt{\\sum_{i=1}^{3}(2x_{1i}+x_{2i})^{2}}} + \\frac{2(x_{2i}+x_{1i})}{\\sqrt{\\sum_{i=1}^{3}(x_{1i}+2x_{2i})^{2}}} \\right)$\n",
        "\n",
        "\n"
      ]
    }
  ],
  "metadata": {
    "colab": {
      "provenance": []
    },
    "kernelspec": {
      "display_name": "Python 3",
      "language": "python",
      "name": "python3"
    },
    "language_info": {
      "codemirror_mode": {
        "name": "ipython",
        "version": 3
      },
      "file_extension": ".py",
      "mimetype": "text/x-python",
      "name": "python",
      "nbconvert_exporter": "python",
      "pygments_lexer": "ipython3",
      "version": "3.6.13"
    }
  },
  "nbformat": 4,
  "nbformat_minor": 0
}
